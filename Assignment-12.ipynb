{
 "cells": [
  {
   "cell_type": "markdown",
   "id": "01df6608",
   "metadata": {},
   "source": [
    "Q1. What is a database? Differentiate between SQL and NoSQL databases?"
   ]
  },
  {
   "cell_type": "markdown",
   "id": "ac69a72f",
   "metadata": {},
   "source": [
    "A database is an organized collection of structured information, or data, typically stored electronically in a computer system. A database is usually controlled by a database management system (DBMS).\n",
    "\n"
   ]
  },
  {
   "cell_type": "markdown",
   "id": "87a77736",
   "metadata": {},
   "source": [
    "The five critical differences between SQL and NoSQL are:\n",
    "    \n",
    "1.SQL databases are relational, and NoSQL databases are non-relational.\n",
    "2.SQL databases use structured query language (SQL) and have a predefined schema. NoSQL databases have dynamic schemas for unstructured data.\n",
    "3.SQL databases are vertically scalable, while NoSQL databases are horizontally scalable.\n",
    "4.SQL databases are table-based, while NoSQL databases are document, key-value, graph, or wide-column stores.\n",
    "5.SQL databases are better for multi-row transactions, while NoSQL is better for unstructured data like documents or JSON."
   ]
  },
  {
   "cell_type": "code",
   "execution_count": null,
   "id": "28941c14",
   "metadata": {},
   "outputs": [],
   "source": []
  },
  {
   "cell_type": "code",
   "execution_count": null,
   "id": "5d9108aa",
   "metadata": {},
   "outputs": [],
   "source": []
  },
  {
   "cell_type": "markdown",
   "id": "9bc5878f",
   "metadata": {},
   "source": [
    "Q2. What is DDL? Explain why CREATE, DROP, ALTER, and TRUNCATE are used with an example."
   ]
  },
  {
   "cell_type": "markdown",
   "id": "34cc0e5b",
   "metadata": {},
   "source": [
    "Data Definition Language(DDL) commands in DBMS are used to define the database objects. We can create, delete and alter tables using DDL commands. Since a database structure is designed by DDL commands, they are called Data Definition Languages (DDLs). They consist of commands such as CREATE, ALTER, TRUNCATE, and DROP."
   ]
  },
  {
   "cell_type": "markdown",
   "id": "3be17121",
   "metadata": {},
   "source": [
    "CREATE: CREATE is a DDL command in DBMS that is used to create tables or databases. While creating a table, we specify table names, column names, datatypes of each column, and column sizes. If there are any integrity constraints or key constraints of the table like PRIMARY KEY, UNIQUE, NOT NULL, etc. we must specify them while creating it along with the column names and details."
   ]
  },
  {
   "cell_type": "markdown",
   "id": "b075f3c1",
   "metadata": {},
   "source": [
    "--Defining a new table using CREATE:\n",
    "\n",
    "CREATE TABLE Students\n",
    "(\n",
    "    --Giving the column names and data type details of the table.\n",
    "    Roll_no INT PRIMARY KEY,\n",
    "    Name VARCHAR(20),\n",
    "    Age INT,\n",
    "    Address VARCHAR(30)\n",
    ");\n"
   ]
  },
  {
   "cell_type": "markdown",
   "id": "1a247189",
   "metadata": {},
   "source": [
    "ALTER: ALTER is a DDL command used to change the structure of an existing database table. Using this command we can perform operations like adding a new column, removing any column, adding or removing integrity constraints, or changing the data type of the existing column on the existing table. ALTER command is used to modify the existing structure of the table."
   ]
  },
  {
   "cell_type": "markdown",
   "id": "0213f651",
   "metadata": {},
   "source": [
    "ALTER TABLE Students ADD Date_Of_Birth  DATE;"
   ]
  },
  {
   "cell_type": "markdown",
   "id": "b70b3b53",
   "metadata": {},
   "source": [
    "TURNCATE : TRUNCATE is a DDL command used to delete all records from the table while keeping its structure intact. This command is used to get rid of all the records and free up the space being used by the table. However, the table's structure remains unchanged, including the column names and details. Thus, the table can be used to store new data in the future."
   ]
  },
  {
   "cell_type": "markdown",
   "id": "122ffe19",
   "metadata": {},
   "source": [
    "TRUNCATE TABLE Students;"
   ]
  },
  {
   "cell_type": "markdown",
   "id": "251c585a",
   "metadata": {},
   "source": [
    "DROP : DROP is a DDL command used to delete an existing table completely from the database. This command deletes the table records along with their structure. The table and all its components are completely deleted and cannot be found again in the database."
   ]
  },
  {
   "cell_type": "markdown",
   "id": "90423148",
   "metadata": {},
   "source": [
    "DROP TABLE Students;"
   ]
  },
  {
   "cell_type": "code",
   "execution_count": null,
   "id": "a319bbf6",
   "metadata": {},
   "outputs": [],
   "source": []
  },
  {
   "cell_type": "code",
   "execution_count": null,
   "id": "5c3b8c10",
   "metadata": {},
   "outputs": [],
   "source": []
  },
  {
   "cell_type": "markdown",
   "id": "7bbe2b73",
   "metadata": {},
   "source": [
    "Q3. What is DML? Explain INSERT, UPDATE, and DELETE with an example."
   ]
  },
  {
   "cell_type": "markdown",
   "id": "d0208739",
   "metadata": {},
   "source": [
    "Dml in DBMS is one of the types of SQL queries which helps you in performing all types of data modification in a database like inserting, modifying, and deleting its data."
   ]
  },
  {
   "cell_type": "markdown",
   "id": "a131d903",
   "metadata": {},
   "source": [
    "INSERT : INSERT is another important data manipulation command in Structured Query Language used to insert data into the rows of a table."
   ]
  },
  {
   "cell_type": "markdown",
   "id": "68412e9f",
   "metadata": {},
   "source": [
    "INSERT INTO student_details (ROLL_NO, FIRST_NAME, LAST_NAME, MARKS) VALUES (4, 'Arpit', 'Garg', 82);  "
   ]
  },
  {
   "cell_type": "markdown",
   "id": "044929ff",
   "metadata": {},
   "source": [
    "UPDATE : UPDATE command is another important data manipulation command in Structured Query Language, it allows us to update or modify the existing data in tables. It changes the data from one or more records in a table."
   ]
  },
  {
   "cell_type": "markdown",
   "id": "b5fda653",
   "metadata": {},
   "source": [
    "UPDATE student_details\n",
    "SET MARKS = 92\n",
    "WHERE ROLL_NO = 4;"
   ]
  },
  {
   "cell_type": "markdown",
   "id": "3c00305e",
   "metadata": {},
   "source": [
    "DELETE : DELETE is another useful data manipulation command in Structured Query Language, which allows us to remove single or multiple records from the database tables depending upon the condition we specify in the WHERE clause."
   ]
  },
  {
   "cell_type": "markdown",
   "id": "c910f6e7",
   "metadata": {},
   "source": [
    "DELETE FROM student_details WHERE MARKS < 80;"
   ]
  },
  {
   "cell_type": "code",
   "execution_count": null,
   "id": "3cf888c9",
   "metadata": {},
   "outputs": [],
   "source": []
  },
  {
   "cell_type": "markdown",
   "id": "1482a050",
   "metadata": {},
   "source": [
    "Q4. What is DQL? Explain SELECT with an example"
   ]
  },
  {
   "cell_type": "markdown",
   "id": "f3d07f03",
   "metadata": {},
   "source": [
    "DQL(Data Query Language): Data query language consists of only one command upon which data selection in SQL relies. The SELECT command in combination with other SQL clauses is used to retrieve and fetch data from databases/tables based on certain conditions applied by the user."
   ]
  },
  {
   "cell_type": "markdown",
   "id": "58511299",
   "metadata": {},
   "source": [
    "select age as myAge\n",
    "from my_table;\n",
    "\n",
    "select * from my_table"
   ]
  },
  {
   "cell_type": "code",
   "execution_count": null,
   "id": "d7a7738a",
   "metadata": {},
   "outputs": [],
   "source": []
  },
  {
   "cell_type": "code",
   "execution_count": null,
   "id": "19b32961",
   "metadata": {},
   "outputs": [],
   "source": []
  },
  {
   "cell_type": "markdown",
   "id": "efea741e",
   "metadata": {},
   "source": [
    "Q5. Explain Primary Key and Foreign Key."
   ]
  },
  {
   "cell_type": "markdown",
   "id": "70d1ea64",
   "metadata": {},
   "source": [
    "PRIMARY KEY : A primary key is used to ensure that data in the specific column is unique. A column cannot have NULL values. It is either an existing table column or a column that is specifically generated by the database according to a defined sequence."
   ]
  },
  {
   "cell_type": "markdown",
   "id": "8d9d7b90",
   "metadata": {},
   "source": [
    "FOREIGN KEY : A foreign key is a column or group of columns in a relational database table that provides a link between data in two tables. It is a column (or columns) that references a column (most often the primary key) of another table. "
   ]
  },
  {
   "cell_type": "code",
   "execution_count": null,
   "id": "47883630",
   "metadata": {},
   "outputs": [],
   "source": []
  },
  {
   "cell_type": "code",
   "execution_count": null,
   "id": "e5f08bd0",
   "metadata": {},
   "outputs": [],
   "source": []
  },
  {
   "cell_type": "markdown",
   "id": "3d0cafbf",
   "metadata": {},
   "source": [
    "Q6. Write a python code to connect MySQL to python. Explain the cursor() and execute() method."
   ]
  },
  {
   "cell_type": "markdown",
   "id": "f965096d",
   "metadata": {},
   "source": [
    "import mysql.connector\n",
    "mydb = mysql.connector.connect(\n",
    "  host=\"localhost\",\n",
    "  user=\"abc\",\n",
    "  password=\"password\"\n",
    ")\n",
    "mycursor = mydb.cursor()\n",
    "mycursor.execute(\"CREATE DATABASE if not exists test2\")\n",
    "mydb.close()"
   ]
  },
  {
   "cell_type": "markdown",
   "id": "c0a7f806",
   "metadata": {},
   "source": [
    "CURSOR() : In MySQL, a cursor allows row-by-row processing of the result sets. A cursor is used for the result set and returned from a query. By using a cursor, We can iterate or step through the results of a query and perform certain operations on each row."
   ]
  },
  {
   "cell_type": "markdown",
   "id": "5187dc90",
   "metadata": {},
   "source": [
    "EXECUTE() : execute() Method. This method executes the given database operation (query or command). The parameters found in the tuple or dictionary params are bound to the variables in the operation. Specify variables using %s or %( name )s parameter style (that is, using format or pyformat style)."
   ]
  },
  {
   "cell_type": "code",
   "execution_count": null,
   "id": "81848d87",
   "metadata": {},
   "outputs": [],
   "source": []
  },
  {
   "cell_type": "code",
   "execution_count": null,
   "id": "198cdece",
   "metadata": {},
   "outputs": [],
   "source": []
  },
  {
   "cell_type": "markdown",
   "id": "1b8f72d7",
   "metadata": {},
   "source": [
    "Q7. Give the order of execution of SQL clauses in an SQL query."
   ]
  },
  {
   "cell_type": "markdown",
   "id": "0b1ad1db",
   "metadata": {},
   "source": [
    "1\tFROM\tTables are joined to get the base data.\n",
    "2\tWHERE\tThe base data is filtered.\n",
    "3\tGROUP BY\tThe filtered base data is grouped.\n",
    "4\tHAVING\tThe grouped base data is filtered.\n",
    "5\tSELECT\tThe final data is returned.\n",
    "6\tORDER BY\tThe final data is sorted.\n",
    "7\tLIMIT\tThe returned data is limited to row count."
   ]
  },
  {
   "cell_type": "code",
   "execution_count": null,
   "id": "0b8f0111",
   "metadata": {},
   "outputs": [],
   "source": []
  },
  {
   "cell_type": "code",
   "execution_count": null,
   "id": "a028c001",
   "metadata": {},
   "outputs": [],
   "source": []
  }
 ],
 "metadata": {
  "kernelspec": {
   "display_name": "Python 3 (ipykernel)",
   "language": "python",
   "name": "python3"
  },
  "language_info": {
   "codemirror_mode": {
    "name": "ipython",
    "version": 3
   },
   "file_extension": ".py",
   "mimetype": "text/x-python",
   "name": "python",
   "nbconvert_exporter": "python",
   "pygments_lexer": "ipython3",
   "version": "3.9.12"
  }
 },
 "nbformat": 4,
 "nbformat_minor": 5
}
